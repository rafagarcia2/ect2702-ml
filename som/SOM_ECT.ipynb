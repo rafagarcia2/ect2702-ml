{
 "cells": [
  {
   "cell_type": "code",
   "execution_count": 1,
   "metadata": {},
   "outputs": [],
   "source": [
    "# Importing the libraries\n",
    "import numpy as np\n",
    "import matplotlib.pyplot as plt\n",
    "import pandas as pd"
   ]
  },
  {
   "cell_type": "code",
   "execution_count": 6,
   "metadata": {},
   "outputs": [
    {
     "name": "stdout",
     "output_type": "stream",
     "text": [
      "Collecting minisom\n",
      "  Downloading https://files.pythonhosted.org/packages/dd/5b/c44c6692a1b5c17f359ff6dff599ae0273e3952dd351350c4a1008a7e575/MiniSom-2.0.0.tar.gz\n",
      "Building wheels for collected packages: minisom\n",
      "  Running setup.py bdist_wheel for minisom ... \u001b[?25ldone\n",
      "\u001b[?25h  Stored in directory: /home/rafael/.cache/pip/wheels/35/15/5a/79c96c035070cb325ae0d6d67a98716999c5a630d3e13617f6\n",
      "Successfully built minisom\n",
      "\u001b[31mtwisted 18.7.0 requires PyHamcrest>=1.9.0, which is not installed.\u001b[0m\n",
      "Installing collected packages: minisom\n",
      "Successfully installed minisom-2.0.0\n",
      "\u001b[33mYou are using pip version 10.0.1, however version 18.1 is available.\n",
      "You should consider upgrading via the 'pip install --upgrade pip' command.\u001b[0m\n"
     ]
    }
   ],
   "source": [
    "# Install MiniSOM\n",
    "# https://github.com/JustGlowing/minisom \n",
    "!pip install minisom"
   ]
  },
  {
   "cell_type": "code",
   "execution_count": 2,
   "metadata": {},
   "outputs": [],
   "source": [
    "alunos = pd.read_csv(\"data/output/resultado_materias_geral.csv\")"
   ]
  },
  {
   "cell_type": "code",
   "execution_count": 3,
   "metadata": {},
   "outputs": [
    {
     "data": {
      "text/html": [
       "<div>\n",
       "<style scoped>\n",
       "    .dataframe tbody tr th:only-of-type {\n",
       "        vertical-align: middle;\n",
       "    }\n",
       "\n",
       "    .dataframe tbody tr th {\n",
       "        vertical-align: top;\n",
       "    }\n",
       "\n",
       "    .dataframe thead th {\n",
       "        text-align: right;\n",
       "    }\n",
       "</style>\n",
       "<table border=\"1\" class=\"dataframe\">\n",
       "  <thead>\n",
       "    <tr style=\"text-align: right;\">\n",
       "      <th></th>\n",
       "      <th>discente</th>\n",
       "      <th>periodoano</th>\n",
       "      <th>media_c1</th>\n",
       "      <th>faltas_c1</th>\n",
       "      <th>media_pre</th>\n",
       "      <th>faltas_pre</th>\n",
       "      <th>media_vga</th>\n",
       "      <th>faltas_vga</th>\n",
       "      <th>descricao_c3</th>\n",
       "    </tr>\n",
       "  </thead>\n",
       "  <tbody>\n",
       "    <tr>\n",
       "      <th>0</th>\n",
       "      <td>3d688dbe74a84992ce43181e08c0f295</td>\n",
       "      <td>20151</td>\n",
       "      <td>0.0</td>\n",
       "      <td>0.0</td>\n",
       "      <td>0.0</td>\n",
       "      <td>66.0</td>\n",
       "      <td>0.1</td>\n",
       "      <td>30.0</td>\n",
       "      <td>NÃO PRESENTE</td>\n",
       "    </tr>\n",
       "    <tr>\n",
       "      <th>1</th>\n",
       "      <td>6c4acceb9b1288b61d893dc1b5005764</td>\n",
       "      <td>20151</td>\n",
       "      <td>0.0</td>\n",
       "      <td>0.0</td>\n",
       "      <td>5.3</td>\n",
       "      <td>16.0</td>\n",
       "      <td>3.1</td>\n",
       "      <td>0.0</td>\n",
       "      <td>NÃO PRESENTE</td>\n",
       "    </tr>\n",
       "    <tr>\n",
       "      <th>2</th>\n",
       "      <td>bb67c2ca87d0e1fcf027b2f0f6df4221</td>\n",
       "      <td>20151</td>\n",
       "      <td>8.5</td>\n",
       "      <td>0.0</td>\n",
       "      <td>9.7</td>\n",
       "      <td>16.0</td>\n",
       "      <td>6.3</td>\n",
       "      <td>0.0</td>\n",
       "      <td>NÃO PRESENTE</td>\n",
       "    </tr>\n",
       "    <tr>\n",
       "      <th>3</th>\n",
       "      <td>9897eefc366f1f546e5340390c3df0cd</td>\n",
       "      <td>20151</td>\n",
       "      <td>1.3</td>\n",
       "      <td>0.0</td>\n",
       "      <td>5.0</td>\n",
       "      <td>14.0</td>\n",
       "      <td>1.2</td>\n",
       "      <td>0.0</td>\n",
       "      <td>NÃO PRESENTE</td>\n",
       "    </tr>\n",
       "    <tr>\n",
       "      <th>4</th>\n",
       "      <td>859abe9fcb5769f73f54cba6592b81af</td>\n",
       "      <td>20151</td>\n",
       "      <td>1.7</td>\n",
       "      <td>0.0</td>\n",
       "      <td>5.3</td>\n",
       "      <td>2.0</td>\n",
       "      <td>1.3</td>\n",
       "      <td>0.0</td>\n",
       "      <td>NÃO PRESENTE</td>\n",
       "    </tr>\n",
       "  </tbody>\n",
       "</table>\n",
       "</div>"
      ],
      "text/plain": [
       "                           discente  periodoano  media_c1  faltas_c1  \\\n",
       "0  3d688dbe74a84992ce43181e08c0f295       20151       0.0        0.0   \n",
       "1  6c4acceb9b1288b61d893dc1b5005764       20151       0.0        0.0   \n",
       "2  bb67c2ca87d0e1fcf027b2f0f6df4221       20151       8.5        0.0   \n",
       "3  9897eefc366f1f546e5340390c3df0cd       20151       1.3        0.0   \n",
       "4  859abe9fcb5769f73f54cba6592b81af       20151       1.7        0.0   \n",
       "\n",
       "   media_pre  faltas_pre  media_vga  faltas_vga  descricao_c3  \n",
       "0        0.0        66.0        0.1        30.0  NÃO PRESENTE  \n",
       "1        5.3        16.0        3.1         0.0  NÃO PRESENTE  \n",
       "2        9.7        16.0        6.3         0.0  NÃO PRESENTE  \n",
       "3        5.0        14.0        1.2         0.0  NÃO PRESENTE  \n",
       "4        5.3         2.0        1.3         0.0  NÃO PRESENTE  "
      ]
     },
     "execution_count": 3,
     "metadata": {},
     "output_type": "execute_result"
    }
   ],
   "source": [
    "alunos.head()"
   ]
  },
  {
   "cell_type": "code",
   "execution_count": 26,
   "metadata": {},
   "outputs": [],
   "source": [
    "alunos = alunos[['discente', 'media_c1', 'media_pre', 'media_vga', 'descricao_c3']]"
   ]
  },
  {
   "cell_type": "code",
   "execution_count": 27,
   "metadata": {},
   "outputs": [
    {
     "name": "stdout",
     "output_type": "stream",
     "text": [
      "[[0.  0.  0.1]\n",
      " [0.  5.3 3.1]\n",
      " [8.5 9.7 6.3]\n",
      " ...\n",
      " [7.3 8.7 9. ]\n",
      " [0.  0.  0. ]\n",
      " [0.  0.9 1.3]]\n"
     ]
    }
   ],
   "source": [
    "# Separando labels e target\n",
    "X = alunos.iloc[:, 1:4]\n",
    "y = alunos.iloc[:, 4]\n",
    "array = X.values\n",
    "print(array)"
   ]
  },
  {
   "cell_type": "markdown",
   "metadata": {},
   "source": [
    "# Treinando meus dados"
   ]
  },
  {
   "cell_type": "code",
   "execution_count": 28,
   "metadata": {},
   "outputs": [],
   "source": [
    "# simplificando as targets\n",
    "pagando = ['REPROVADO', 'APROVADO POR NOTA', 'APROVADO']\n",
    "y = y.apply(lambda x: 1 if x in pagando else 0)"
   ]
  },
  {
   "cell_type": "code",
   "execution_count": 29,
   "metadata": {},
   "outputs": [],
   "source": [
    "# Feature Scaling\n",
    "from sklearn.preprocessing import MinMaxScaler\n",
    "sc = MinMaxScaler(feature_range = (0, 1))\n",
    "X = sc.fit_transform(X.values)"
   ]
  },
  {
   "cell_type": "code",
   "execution_count": 36,
   "metadata": {},
   "outputs": [],
   "source": [
    "# Training the SOM\n",
    "from minisom import MiniSom\n",
    "som = MiniSom(x = 10, y = 10, input_len = 3, sigma = 1.0, learning_rate = 0.5)\n",
    "#som.random_weights_init(X)\n",
    "som.train_random(data = X, num_iteration = 100)"
   ]
  },
  {
   "cell_type": "markdown",
   "metadata": {},
   "source": [
    "# Visualização de Dados"
   ]
  },
  {
   "cell_type": "code",
   "execution_count": 37,
   "metadata": {},
   "outputs": [
    {
     "data": {
      "image/png": "[encoded data removed]",
      "text/plain": [
       "<Figure size 432x288 with 2 Axes>"
      ]
     },
     "metadata": {
      "needs_background": "light"
     },
     "output_type": "display_data"
    }
   ],
   "source": [
    "# Visualizing the results\n",
    "from pylab import bone, pcolor, colorbar, plot, show\n",
    "bone()\n",
    "pcolor(som.distance_map().T)\n",
    "colorbar()\n",
    "\n",
    "markers = ['o', 's']\n",
    "colors = ['y', 'b']\n",
    "\n",
    "for i, x in enumerate(X):\n",
    "    w = som.winner(x)\n",
    "    plot(w[0] + 0.5,\n",
    "         w[1] + 0.5,\n",
    "         markers[y[i]],\n",
    "         markeredgecolor = colors[y[i]],\n",
    "         markerfacecolor = 'None',\n",
    "         markersize = 10,\n",
    "         markeredgewidth = 2)\n",
    "show()"
   ]
  }
 ],
 "metadata": {
  "kernelspec": {
   "display_name": "Python 3",
   "language": "python",
   "name": "python3"
  },
  "language_info": {
   "codemirror_mode": {
    "name": "ipython",
    "version": 3
   },
   "file_extension": ".py",
   "mimetype": "text/x-python",
   "name": "python",
   "nbconvert_exporter": "python",
   "pygments_lexer": "ipython3",
   "version": "3.7.0"
  }
 },
 "nbformat": 4,
 "nbformat_minor": 2
}
